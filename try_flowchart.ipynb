{
 "cells": [
  {
   "cell_type": "code",
   "execution_count": 55,
   "metadata": {},
   "outputs": [
    {
     "data": {
      "text/html": [
       "<div>\n",
       "<style scoped>\n",
       "    .dataframe tbody tr th:only-of-type {\n",
       "        vertical-align: middle;\n",
       "    }\n",
       "\n",
       "    .dataframe tbody tr th {\n",
       "        vertical-align: top;\n",
       "    }\n",
       "\n",
       "    .dataframe thead th {\n",
       "        text-align: right;\n",
       "    }\n",
       "</style>\n",
       "<table border=\"1\" class=\"dataframe\">\n",
       "  <thead>\n",
       "    <tr style=\"text-align: right;\">\n",
       "      <th></th>\n",
       "      <th>haircolor</th>\n",
       "      <th>height</th>\n",
       "    </tr>\n",
       "  </thead>\n",
       "  <tbody>\n",
       "    <tr>\n",
       "      <th>0</th>\n",
       "      <td>colored</td>\n",
       "      <td>179</td>\n",
       "    </tr>\n",
       "    <tr>\n",
       "      <th>1</th>\n",
       "      <td>black</td>\n",
       "      <td>165</td>\n",
       "    </tr>\n",
       "    <tr>\n",
       "      <th>2</th>\n",
       "      <td>colored</td>\n",
       "      <td>174</td>\n",
       "    </tr>\n",
       "    <tr>\n",
       "      <th>3</th>\n",
       "      <td>black</td>\n",
       "      <td>173</td>\n",
       "    </tr>\n",
       "    <tr>\n",
       "      <th>4</th>\n",
       "      <td>colored</td>\n",
       "      <td>181</td>\n",
       "    </tr>\n",
       "  </tbody>\n",
       "</table>\n",
       "</div>"
      ],
      "text/plain": [
       "  haircolor  height\n",
       "0   colored     179\n",
       "1     black     165\n",
       "2   colored     174\n",
       "3     black     173\n",
       "4   colored     181"
      ]
     },
     "execution_count": 55,
     "metadata": {},
     "output_type": "execute_result"
    }
   ],
   "source": [
    "import pandas as pd\n",
    "import matplotlib.pyplot as plt\n",
    "import numpy as np\n",
    "import ehrapy as ep\n",
    "from tableone import TableOne\n",
    "import seaborn as sns\n",
    "import scanpy as sc\n",
    "\n",
    "# generate dataset\n",
    "rng = np.random.default_rng(151)\n",
    "\n",
    "random_dataset = pd.DataFrame(\n",
    "    {\n",
    "        \"haircolor\": rng.choice([\"blond\", \"black\", \"colored\"], size=150),\n",
    "        \"height\": rng.integers(low=160, high=190, size=150),\n",
    "        # \"proficiency\": rng.choice([\"high prof.\", \"limited prof.\"], size=150),\n",
    "    }\n",
    ")\n",
    "random_dataset.head()"
   ]
  },
  {
   "cell_type": "code",
   "execution_count": 72,
   "metadata": {},
   "outputs": [
    {
     "data": {
      "text/html": [
       "<div>\n",
       "<style scoped>\n",
       "    .dataframe tbody tr th:only-of-type {\n",
       "        vertical-align: middle;\n",
       "    }\n",
       "\n",
       "    .dataframe tbody tr th {\n",
       "        vertical-align: top;\n",
       "    }\n",
       "\n",
       "    .dataframe thead th {\n",
       "        text-align: right;\n",
       "    }\n",
       "</style>\n",
       "<table border=\"1\" class=\"dataframe\">\n",
       "  <thead>\n",
       "    <tr style=\"text-align: right;\">\n",
       "      <th></th>\n",
       "      <th>haircolor</th>\n",
       "      <th>height</th>\n",
       "    </tr>\n",
       "  </thead>\n",
       "  <tbody>\n",
       "    <tr>\n",
       "      <th>0</th>\n",
       "      <td>colored</td>\n",
       "      <td>176</td>\n",
       "    </tr>\n",
       "    <tr>\n",
       "      <th>1</th>\n",
       "      <td>black</td>\n",
       "      <td>173</td>\n",
       "    </tr>\n",
       "    <tr>\n",
       "      <th>2</th>\n",
       "      <td>colored</td>\n",
       "      <td>175</td>\n",
       "    </tr>\n",
       "    <tr>\n",
       "      <th>3</th>\n",
       "      <td>black</td>\n",
       "      <td>175</td>\n",
       "    </tr>\n",
       "    <tr>\n",
       "      <th>4</th>\n",
       "      <td>colored</td>\n",
       "      <td>176</td>\n",
       "    </tr>\n",
       "  </tbody>\n",
       "</table>\n",
       "</div>"
      ],
      "text/plain": [
       "  haircolor  height\n",
       "0   colored     176\n",
       "1     black     173\n",
       "2   colored     175\n",
       "3     black     175\n",
       "4   colored     176"
      ]
     },
     "execution_count": 72,
     "metadata": {},
     "output_type": "execute_result"
    }
   ],
   "source": [
    "# generate dataset\n",
    "rng = np.random.default_rng(151)\n",
    "\n",
    "random_dataset = pd.DataFrame(\n",
    "    {\n",
    "        \"haircolor\": rng.choice([\"blond\", \"black\", \"colored\"], size=150),\n",
    "        \"height\": rng.integers(low=173, high=178, size=150),\n",
    "        # \"proficiency\": rng.choice([\"high prof.\", \"limited prof.\"], size=150),\n",
    "    }\n",
    ")\n",
    "random_dataset.head()"
   ]
  },
  {
   "cell_type": "code",
   "execution_count": 57,
   "metadata": {},
   "outputs": [
    {
     "data": {
      "image/png": "[encoded data removed]",
      "text/latex": [
       "$\\displaystyle 0.0333333333333333$"
      ],
      "text/plain": [
       "0.03333333333333333"
      ]
     },
     "execution_count": 57,
     "metadata": {},
     "output_type": "execute_result"
    }
   ],
   "source": [
    "1.0 * random_dataset[\"height\"].nunique() / random_dataset[\"height\"].count()"
   ]
  },
  {
   "cell_type": "code",
   "execution_count": 76,
   "metadata": {},
   "outputs": [
    {
     "data": {
      "text/html": [
       "<div>\n",
       "<style scoped>\n",
       "    .dataframe tbody tr th:only-of-type {\n",
       "        vertical-align: middle;\n",
       "    }\n",
       "\n",
       "    .dataframe tbody tr th {\n",
       "        vertical-align: top;\n",
       "    }\n",
       "\n",
       "    .dataframe thead th {\n",
       "        text-align: right;\n",
       "    }\n",
       "</style>\n",
       "<table border=\"1\" class=\"dataframe\">\n",
       "  <thead>\n",
       "    <tr style=\"text-align: right;\">\n",
       "      <th></th>\n",
       "      <th></th>\n",
       "      <th>Missing</th>\n",
       "      <th>Overall</th>\n",
       "    </tr>\n",
       "  </thead>\n",
       "  <tbody>\n",
       "    <tr>\n",
       "      <th>n</th>\n",
       "      <th></th>\n",
       "      <td></td>\n",
       "      <td>150</td>\n",
       "    </tr>\n",
       "    <tr>\n",
       "      <th rowspan=\"3\" valign=\"top\">haircolor, n (%)</th>\n",
       "      <th>black</th>\n",
       "      <td>0</td>\n",
       "      <td>45 (30.0)</td>\n",
       "    </tr>\n",
       "    <tr>\n",
       "      <th>blond</th>\n",
       "      <td></td>\n",
       "      <td>55 (36.7)</td>\n",
       "    </tr>\n",
       "    <tr>\n",
       "      <th>colored</th>\n",
       "      <td></td>\n",
       "      <td>50 (33.3)</td>\n",
       "    </tr>\n",
       "    <tr>\n",
       "      <th>height, mean (SD)</th>\n",
       "      <th></th>\n",
       "      <td>0</td>\n",
       "      <td>175.0 (1.5)</td>\n",
       "    </tr>\n",
       "  </tbody>\n",
       "</table>\n",
       "</div><br />"
      ],
      "text/plain": [
       "                          Missing      Overall\n",
       "n                                          150\n",
       "haircolor, n (%)  black         0    45 (30.0)\n",
       "                  blond              55 (36.7)\n",
       "                  colored            50 (33.3)\n",
       "height, mean (SD)               0  175.0 (1.5)"
      ]
     },
     "execution_count": 76,
     "metadata": {},
     "output_type": "execute_result"
    }
   ],
   "source": [
    "TableOne(random_dataset, categorical=[\"haircolor\"])"
   ]
  },
  {
   "cell_type": "code",
   "execution_count": 59,
   "metadata": {},
   "outputs": [
    {
     "data": {
      "text/html": [
       "<div>\n",
       "<style scoped>\n",
       "    .dataframe tbody tr th:only-of-type {\n",
       "        vertical-align: middle;\n",
       "    }\n",
       "\n",
       "    .dataframe tbody tr th {\n",
       "        vertical-align: top;\n",
       "    }\n",
       "\n",
       "    .dataframe thead th {\n",
       "        text-align: right;\n",
       "    }\n",
       "</style>\n",
       "<table border=\"1\" class=\"dataframe\">\n",
       "  <thead>\n",
       "    <tr style=\"text-align: right;\">\n",
       "      <th></th>\n",
       "      <th>haircolor</th>\n",
       "      <th>height</th>\n",
       "    </tr>\n",
       "  </thead>\n",
       "  <tbody>\n",
       "    <tr>\n",
       "      <th>0</th>\n",
       "      <td>colored</td>\n",
       "      <td>176</td>\n",
       "    </tr>\n",
       "    <tr>\n",
       "      <th>1</th>\n",
       "      <td>black</td>\n",
       "      <td>173</td>\n",
       "    </tr>\n",
       "    <tr>\n",
       "      <th>2</th>\n",
       "      <td>colored</td>\n",
       "      <td>175</td>\n",
       "    </tr>\n",
       "    <tr>\n",
       "      <th>3</th>\n",
       "      <td>black</td>\n",
       "      <td>175</td>\n",
       "    </tr>\n",
       "    <tr>\n",
       "      <th>4</th>\n",
       "      <td>colored</td>\n",
       "      <td>176</td>\n",
       "    </tr>\n",
       "    <tr>\n",
       "      <th>...</th>\n",
       "      <td>...</td>\n",
       "      <td>...</td>\n",
       "    </tr>\n",
       "    <tr>\n",
       "      <th>145</th>\n",
       "      <td>blond</td>\n",
       "      <td>173</td>\n",
       "    </tr>\n",
       "    <tr>\n",
       "      <th>146</th>\n",
       "      <td>black</td>\n",
       "      <td>177</td>\n",
       "    </tr>\n",
       "    <tr>\n",
       "      <th>147</th>\n",
       "      <td>black</td>\n",
       "      <td>173</td>\n",
       "    </tr>\n",
       "    <tr>\n",
       "      <th>148</th>\n",
       "      <td>blond</td>\n",
       "      <td>174</td>\n",
       "    </tr>\n",
       "    <tr>\n",
       "      <th>149</th>\n",
       "      <td>blond</td>\n",
       "      <td>173</td>\n",
       "    </tr>\n",
       "  </tbody>\n",
       "</table>\n",
       "<p>150 rows × 2 columns</p>\n",
       "</div>"
      ],
      "text/plain": [
       "    haircolor  height\n",
       "0     colored     176\n",
       "1       black     173\n",
       "2     colored     175\n",
       "3       black     175\n",
       "4     colored     176\n",
       "..        ...     ...\n",
       "145     blond     173\n",
       "146     black     177\n",
       "147     black     173\n",
       "148     blond     174\n",
       "149     blond     173\n",
       "\n",
       "[150 rows x 2 columns]"
      ]
     },
     "execution_count": 59,
     "metadata": {},
     "output_type": "execute_result"
    }
   ],
   "source": [
    "adata = sc.AnnData(X=rng.normal(size=(150, 100)), obs=random_dataset)\n",
    "adata.obs"
   ]
  },
  {
   "cell_type": "code",
   "execution_count": 60,
   "metadata": {},
   "outputs": [
    {
     "name": "stdout",
     "output_type": "stream",
     "text": [
      "The autoreload extension is already loaded. To reload it, use:\n",
      "  %reload_ext autoreload\n"
     ]
    }
   ],
   "source": [
    "%load_ext autoreload\n",
    "%autoreload 2"
   ]
  },
  {
   "cell_type": "code",
   "execution_count": 61,
   "metadata": {},
   "outputs": [],
   "source": [
    "pl = ep.tl.PopulationTracker(adata)\n",
    "pl(adata)\n",
    "adata = adata[:75]\n",
    "pl(adata, label=\"filtered\", operations_done=\"filtered to first 75 entries\")"
   ]
  },
  {
   "cell_type": "code",
   "execution_count": 62,
   "metadata": {},
   "outputs": [
    {
     "data": {
      "text/plain": [
       "[None, 'filtered to first 75 entries']"
      ]
     },
     "execution_count": 62,
     "metadata": {},
     "output_type": "execute_result"
    }
   ],
   "source": [
    "pl._tracked_operations"
   ]
  },
  {
   "cell_type": "code",
   "execution_count": 63,
   "metadata": {},
   "outputs": [],
   "source": [
    "# pl.reset()"
   ]
  },
  {
   "cell_type": "code",
   "execution_count": 64,
   "metadata": {},
   "outputs": [
    {
     "data": {
      "image/png": "[encoded data removed]",
      "text/latex": [
       "$\\displaystyle 2$"
      ],
      "text/plain": [
       "2"
      ]
     },
     "execution_count": 64,
     "metadata": {},
     "output_type": "execute_result"
    }
   ],
   "source": [
    "pl.tracked_steps"
   ]
  },
  {
   "cell_type": "code",
   "execution_count": 65,
   "metadata": {},
   "outputs": [
    {
     "data": {
      "text/plain": [
       "{'haircolor': {'black': [30.0, 25.3],\n",
       "  'blond': [36.7, 40.0],\n",
       "  'colored': [33.3, 34.7]},\n",
       " 'height': []}"
      ]
     },
     "execution_count": 65,
     "metadata": {},
     "output_type": "execute_result"
    }
   ],
   "source": [
    "pl.track"
   ]
  },
  {
   "cell_type": "code",
   "execution_count": 66,
   "metadata": {},
   "outputs": [
    {
     "ename": "KeyError",
     "evalue": "0",
     "output_type": "error",
     "traceback": [
      "\u001b[0;31m---------------------------------------------------------------------------\u001b[0m",
      "\u001b[0;31mValueError\u001b[0m                                Traceback (most recent call last)",
      "File \u001b[0;32m~/Documents/ehrapy_clean/ehrapy_venv_feb/lib/python3.11/site-packages/pandas/core/indexes/range.py:413\u001b[0m, in \u001b[0;36mRangeIndex.get_loc\u001b[0;34m(self, key)\u001b[0m\n\u001b[1;32m    412\u001b[0m \u001b[38;5;28;01mtry\u001b[39;00m:\n\u001b[0;32m--> 413\u001b[0m     \u001b[38;5;28;01mreturn\u001b[39;00m \u001b[38;5;28;43mself\u001b[39;49m\u001b[38;5;241;43m.\u001b[39;49m\u001b[43m_range\u001b[49m\u001b[38;5;241;43m.\u001b[39;49m\u001b[43mindex\u001b[49m\u001b[43m(\u001b[49m\u001b[43mnew_key\u001b[49m\u001b[43m)\u001b[49m\n\u001b[1;32m    414\u001b[0m \u001b[38;5;28;01mexcept\u001b[39;00m \u001b[38;5;167;01mValueError\u001b[39;00m \u001b[38;5;28;01mas\u001b[39;00m err:\n",
      "\u001b[0;31mValueError\u001b[0m: 0 is not in range",
      "\nThe above exception was the direct cause of the following exception:\n",
      "\u001b[0;31mKeyError\u001b[0m                                  Traceback (most recent call last)",
      "Cell \u001b[0;32mIn[66], line 1\u001b[0m\n\u001b[0;32m----> 1\u001b[0m fig, axes \u001b[38;5;241m=\u001b[39m \u001b[43mpl\u001b[49m\u001b[38;5;241;43m.\u001b[39;49m\u001b[43mplot_population_change\u001b[49m\u001b[43m(\u001b[49m\u001b[43mreturn_plot\u001b[49m\u001b[38;5;241;43m=\u001b[39;49m\u001b[38;5;28;43;01mTrue\u001b[39;49;00m\u001b[43m)\u001b[49m\n",
      "File \u001b[0;32m~/Documents/ehrapy_clean/ehrapy/ehrapy/tools/population_tracking/_pop_tracker.py:142\u001b[0m, in \u001b[0;36mPopulationTracker.plot_population_change\u001b[0;34m(self, set_axis_labels, save, return_plot)\u001b[0m\n\u001b[1;32m    140\u001b[0m \u001b[38;5;28;01mfor\u001b[39;00m idx, ax \u001b[38;5;129;01min\u001b[39;00m \u001b[38;5;28menumerate\u001b[39m(axes):\n\u001b[1;32m    141\u001b[0m     \u001b[38;5;28;01mfor\u001b[39;00m pos, (_cols, data) \u001b[38;5;129;01min\u001b[39;00m \u001b[38;5;28menumerate\u001b[39m(\u001b[38;5;28mself\u001b[39m\u001b[38;5;241m.\u001b[39mtrack\u001b[38;5;241m.\u001b[39mitems()):\n\u001b[0;32m--> 142\u001b[0m         data \u001b[38;5;241m=\u001b[39m \u001b[43mpd\u001b[49m\u001b[38;5;241;43m.\u001b[39;49m\u001b[43mDataFrame\u001b[49m\u001b[43m(\u001b[49m\u001b[43mdata\u001b[49m\u001b[43m)\u001b[49m\u001b[38;5;241;43m.\u001b[39;49m\u001b[43mloc\u001b[49m\u001b[43m[\u001b[49m\u001b[43midx\u001b[49m\u001b[43m]\u001b[49m\n\u001b[1;32m    144\u001b[0m         cumwidth \u001b[38;5;241m=\u001b[39m \u001b[38;5;241m0\u001b[39m\n\u001b[1;32m    146\u001b[0m         \u001b[38;5;66;03m# Adjust the hue shift based on the category position such that the colors are more distinguishable\u001b[39;00m\n",
      "File \u001b[0;32m~/Documents/ehrapy_clean/ehrapy_venv_feb/lib/python3.11/site-packages/pandas/core/indexing.py:1192\u001b[0m, in \u001b[0;36m_LocationIndexer.__getitem__\u001b[0;34m(self, key)\u001b[0m\n\u001b[1;32m   1190\u001b[0m maybe_callable \u001b[38;5;241m=\u001b[39m com\u001b[38;5;241m.\u001b[39mapply_if_callable(key, \u001b[38;5;28mself\u001b[39m\u001b[38;5;241m.\u001b[39mobj)\n\u001b[1;32m   1191\u001b[0m maybe_callable \u001b[38;5;241m=\u001b[39m \u001b[38;5;28mself\u001b[39m\u001b[38;5;241m.\u001b[39m_check_deprecated_callable_usage(key, maybe_callable)\n\u001b[0;32m-> 1192\u001b[0m \u001b[38;5;28;01mreturn\u001b[39;00m \u001b[38;5;28;43mself\u001b[39;49m\u001b[38;5;241;43m.\u001b[39;49m\u001b[43m_getitem_axis\u001b[49m\u001b[43m(\u001b[49m\u001b[43mmaybe_callable\u001b[49m\u001b[43m,\u001b[49m\u001b[43m \u001b[49m\u001b[43maxis\u001b[49m\u001b[38;5;241;43m=\u001b[39;49m\u001b[43maxis\u001b[49m\u001b[43m)\u001b[49m\n",
      "File \u001b[0;32m~/Documents/ehrapy_clean/ehrapy_venv_feb/lib/python3.11/site-packages/pandas/core/indexing.py:1432\u001b[0m, in \u001b[0;36m_LocIndexer._getitem_axis\u001b[0;34m(self, key, axis)\u001b[0m\n\u001b[1;32m   1430\u001b[0m \u001b[38;5;66;03m# fall thru to straight lookup\u001b[39;00m\n\u001b[1;32m   1431\u001b[0m \u001b[38;5;28mself\u001b[39m\u001b[38;5;241m.\u001b[39m_validate_key(key, axis)\n\u001b[0;32m-> 1432\u001b[0m \u001b[38;5;28;01mreturn\u001b[39;00m \u001b[38;5;28;43mself\u001b[39;49m\u001b[38;5;241;43m.\u001b[39;49m\u001b[43m_get_label\u001b[49m\u001b[43m(\u001b[49m\u001b[43mkey\u001b[49m\u001b[43m,\u001b[49m\u001b[43m \u001b[49m\u001b[43maxis\u001b[49m\u001b[38;5;241;43m=\u001b[39;49m\u001b[43maxis\u001b[49m\u001b[43m)\u001b[49m\n",
      "File \u001b[0;32m~/Documents/ehrapy_clean/ehrapy_venv_feb/lib/python3.11/site-packages/pandas/core/indexing.py:1382\u001b[0m, in \u001b[0;36m_LocIndexer._get_label\u001b[0;34m(self, label, axis)\u001b[0m\n\u001b[1;32m   1380\u001b[0m \u001b[38;5;28;01mdef\u001b[39;00m \u001b[38;5;21m_get_label\u001b[39m(\u001b[38;5;28mself\u001b[39m, label, axis: AxisInt):\n\u001b[1;32m   1381\u001b[0m     \u001b[38;5;66;03m# GH#5567 this will fail if the label is not present in the axis.\u001b[39;00m\n\u001b[0;32m-> 1382\u001b[0m     \u001b[38;5;28;01mreturn\u001b[39;00m \u001b[38;5;28;43mself\u001b[39;49m\u001b[38;5;241;43m.\u001b[39;49m\u001b[43mobj\u001b[49m\u001b[38;5;241;43m.\u001b[39;49m\u001b[43mxs\u001b[49m\u001b[43m(\u001b[49m\u001b[43mlabel\u001b[49m\u001b[43m,\u001b[49m\u001b[43m \u001b[49m\u001b[43maxis\u001b[49m\u001b[38;5;241;43m=\u001b[39;49m\u001b[43maxis\u001b[49m\u001b[43m)\u001b[49m\n",
      "File \u001b[0;32m~/Documents/ehrapy_clean/ehrapy_venv_feb/lib/python3.11/site-packages/pandas/core/generic.py:4295\u001b[0m, in \u001b[0;36mNDFrame.xs\u001b[0;34m(self, key, axis, level, drop_level)\u001b[0m\n\u001b[1;32m   4293\u001b[0m             new_index \u001b[38;5;241m=\u001b[39m index[loc]\n\u001b[1;32m   4294\u001b[0m \u001b[38;5;28;01melse\u001b[39;00m:\n\u001b[0;32m-> 4295\u001b[0m     loc \u001b[38;5;241m=\u001b[39m \u001b[43mindex\u001b[49m\u001b[38;5;241;43m.\u001b[39;49m\u001b[43mget_loc\u001b[49m\u001b[43m(\u001b[49m\u001b[43mkey\u001b[49m\u001b[43m)\u001b[49m\n\u001b[1;32m   4297\u001b[0m     \u001b[38;5;28;01mif\u001b[39;00m \u001b[38;5;28misinstance\u001b[39m(loc, np\u001b[38;5;241m.\u001b[39mndarray):\n\u001b[1;32m   4298\u001b[0m         \u001b[38;5;28;01mif\u001b[39;00m loc\u001b[38;5;241m.\u001b[39mdtype \u001b[38;5;241m==\u001b[39m np\u001b[38;5;241m.\u001b[39mbool_:\n",
      "File \u001b[0;32m~/Documents/ehrapy_clean/ehrapy_venv_feb/lib/python3.11/site-packages/pandas/core/indexes/range.py:415\u001b[0m, in \u001b[0;36mRangeIndex.get_loc\u001b[0;34m(self, key)\u001b[0m\n\u001b[1;32m    413\u001b[0m         \u001b[38;5;28;01mreturn\u001b[39;00m \u001b[38;5;28mself\u001b[39m\u001b[38;5;241m.\u001b[39m_range\u001b[38;5;241m.\u001b[39mindex(new_key)\n\u001b[1;32m    414\u001b[0m     \u001b[38;5;28;01mexcept\u001b[39;00m \u001b[38;5;167;01mValueError\u001b[39;00m \u001b[38;5;28;01mas\u001b[39;00m err:\n\u001b[0;32m--> 415\u001b[0m         \u001b[38;5;28;01mraise\u001b[39;00m \u001b[38;5;167;01mKeyError\u001b[39;00m(key) \u001b[38;5;28;01mfrom\u001b[39;00m \u001b[38;5;21;01merr\u001b[39;00m\n\u001b[1;32m    416\u001b[0m \u001b[38;5;28;01mif\u001b[39;00m \u001b[38;5;28misinstance\u001b[39m(key, Hashable):\n\u001b[1;32m    417\u001b[0m     \u001b[38;5;28;01mraise\u001b[39;00m \u001b[38;5;167;01mKeyError\u001b[39;00m(key)\n",
      "\u001b[0;31mKeyError\u001b[0m: 0"
     ]
    },
    {
     "data": {
      "image/png": "[encoded data removed]",
      "text/plain": [
       "<Figure size 700x700 with 2 Axes>"
      ]
     },
     "metadata": {},
     "output_type": "display_data"
    }
   ],
   "source": [
    "fig, axes = pl.plot_population_change(return_plot=True)"
   ]
  },
  {
   "cell_type": "code",
   "execution_count": 67,
   "metadata": {},
   "outputs": [
    {
     "name": "stdout",
     "output_type": "stream",
     "text": [
      "\u001b[1;35m2024-02-14 11:07:38,156\u001b[0m - \u001b[1;34mroot\u001b[0m \u001b[1;37mINFO - Transformed passed DataFrame into an AnnData object with n_obs x n_vars = `101766` x `47`.\u001b[0m\n"
     ]
    },
    {
     "data": {
      "image/svg+xml": [
       "<?xml version=\"1.0\" encoding=\"UTF-8\" standalone=\"no\"?>\n",
       "<!DOCTYPE svg PUBLIC \"-//W3C//DTD SVG 1.1//EN\"\n",
       " \"http://www.w3.org/Graphics/SVG/1.1/DTD/svg11.dtd\">\n",
       "<!-- Generated by graphviz version 9.0.0 (20230911.1827)\n",
       " -->\n",
       "<!-- Pages: 1 -->\n",
       "<svg width=\"208pt\" height=\"143pt\"\n",
       " viewBox=\"0.00 0.00 207.62 142.50\" xmlns=\"http://www.w3.org/2000/svg\" xmlns:xlink=\"http://www.w3.org/1999/xlink\">\n",
       "<g id=\"graph0\" class=\"graph\" transform=\"scale(1 1) rotate(0) translate(4 138.5)\">\n",
       "<polygon fill=\"white\" stroke=\"none\" points=\"-4,4 -4,-138.5 203.62,-138.5 203.62,4 -4,4\"/>\n",
       "<!-- 0 -->\n",
       "<g id=\"node1\" class=\"node\">\n",
       "<title>0</title>\n",
       "<polygon fill=\"lightgrey\" stroke=\"black\" points=\"100.75,-134.5 0,-134.5 0,-93.5 100.75,-93.5 100.75,-134.5\"/>\n",
       "<text text-anchor=\"middle\" x=\"50.38\" y=\"-117.2\" font-family=\"Times,serif\" font-size=\"14.00\">Baseline cohort</text>\n",
       "<text text-anchor=\"middle\" x=\"50.38\" y=\"-100.7\" font-family=\"Times,serif\" font-size=\"14.00\"> (n=101766)</text>\n",
       "</g>\n",
       "<!-- 1 -->\n",
       "<g id=\"node2\" class=\"node\">\n",
       "<title>1</title>\n",
       "<polygon fill=\"lightgrey\" stroke=\"black\" points=\"98.5,-41 2.25,-41 2.25,0 98.5,0 98.5,-41\"/>\n",
       "<text text-anchor=\"middle\" x=\"50.38\" y=\"-23.7\" font-family=\"Times,serif\" font-size=\"14.00\">Filtered cohort</text>\n",
       "<text text-anchor=\"middle\" x=\"50.38\" y=\"-7.2\" font-family=\"Times,serif\" font-size=\"14.00\"> (n=1000)</text>\n",
       "</g>\n",
       "<!-- 0&#45;&gt;1 -->\n",
       "<g id=\"edge1\" class=\"edge\">\n",
       "<title>0&#45;&gt;1</title>\n",
       "<path fill=\"none\" stroke=\"black\" d=\"M50.38,-93.15C50.38,-81.28 50.38,-65.94 50.38,-52.5\"/>\n",
       "<polygon fill=\"black\" stroke=\"black\" points=\"53.88,-52.83 50.38,-42.83 46.88,-52.83 53.88,-52.83\"/>\n",
       "<text text-anchor=\"middle\" x=\"125\" y=\"-62.2\" font-family=\"Times,serif\" font-size=\"14.00\">filtered to first 1000 entries</text>\n",
       "</g>\n",
       "</g>\n",
       "</svg>\n"
      ],
      "text/plain": [
       "<graphviz.graphs.Digraph at 0x2ebecee50>"
      ]
     },
     "execution_count": 67,
     "metadata": {},
     "output_type": "execute_result"
    }
   ],
   "source": [
    "adata = ep.dt.diabetes_130(columns_obs_only=[\"gender\", \"race\", \"weight\", \"age\"])\n",
    "pop_track = ep.tl.PopulationTracker(adata)\n",
    "pop_track(adata, label=\"Baseline cohort\")\n",
    "adata = adata[:1000]\n",
    "pop_track(adata, label=\"Filtered cohort\", operations_done=\"filtered to first 1000 entries\")\n",
    "pop_track.plot_flowchart(save=\"flowchart.png\")"
   ]
  },
  {
   "cell_type": "code",
   "execution_count": 68,
   "metadata": {},
   "outputs": [
    {
     "name": "stdout",
     "output_type": "stream",
     "text": [
      "\u001b[1;35m2024-02-14 11:07:40,029\u001b[0m - \u001b[1;34mroot\u001b[0m \u001b[1;37mINFO - Transformed passed DataFrame into an AnnData object with n_obs x n_vars = `101766` x `47`.\u001b[0m\n"
     ]
    }
   ],
   "source": [
    "adata = ep.dt.diabetes_130(columns_obs_only=[\"gender\", \"race\", \"weight\", \"age\"])\n",
    "adata.obs.gender = adata.obs.gender.astype(\"category\")"
   ]
  },
  {
   "cell_type": "code",
   "execution_count": 69,
   "metadata": {},
   "outputs": [
    {
     "name": "stdout",
     "output_type": "stream",
     "text": [
      "\u001b[1;35m2024-02-14 11:07:40,619\u001b[0m - \u001b[1;34mroot\u001b[0m \u001b[1;37mINFO - Transformed passed DataFrame into an AnnData object with n_obs x n_vars = `101766` x `47`.\u001b[0m\n"
     ]
    },
    {
     "data": {
      "text/plain": [
       "weight\n",
       "[75-100)     1336\n",
       "[50-75)       897\n",
       "[100-125)     625\n",
       "[125-150)     145\n",
       "[25-50)        97\n",
       "[0-25)         48\n",
       "[150-175)      35\n",
       "[175-200)      11\n",
       ">200            3\n",
       "Name: count, dtype: int64"
      ]
     },
     "execution_count": 69,
     "metadata": {},
     "output_type": "execute_result"
    }
   ],
   "source": [
    "adata = ep.dt.diabetes_130(columns_obs_only=[\"gender\", \"race\", \"weight\", \"age\"])\n",
    "adata.obs.weight.value_counts()"
   ]
  },
  {
   "cell_type": "code",
   "execution_count": 70,
   "metadata": {},
   "outputs": [
    {
     "data": {
      "text/plain": [
       "array([55629189, 'Emergency', 'Discharged to home', ' Emergency Room', 3,\n",
       "       nan, nan, 59, 0, 18, 0, 0, 0,\n",
       "       'endocrine/nutritional/metabolic diseases and immunity disorders',\n",
       "       'diabetes',\n",
       "       'endocrine/nutritional/metabolic diseases and immunity disorders',\n",
       "       9, nan, nan, 'No', 'No', 'No', 'No', 'No', 'No', 'No', 'No', 'No',\n",
       "       'No', 'No', 'No', 'No', 'No', 'No', 'No', 'No', 'Up', 'No', 'No',\n",
       "       'No', 'No', 'No', True, True, '>30', 15.0, nan], dtype=object)"
      ]
     },
     "execution_count": 70,
     "metadata": {},
     "output_type": "execute_result"
    }
   ],
   "source": [
    "adata.X[1, :]"
   ]
  },
  {
   "cell_type": "code",
   "execution_count": 71,
   "metadata": {},
   "outputs": [
    {
     "ename": "SyntaxError",
     "evalue": "unmatched ']' (2079747778.py, line 2)",
     "output_type": "error",
     "traceback": [
      "\u001b[0;36m  Cell \u001b[0;32mIn[71], line 2\u001b[0;36m\u001b[0m\n\u001b[0;31m    adata[]]\u001b[0m\n\u001b[0m           ^\u001b[0m\n\u001b[0;31mSyntaxError\u001b[0m\u001b[0;31m:\u001b[0m unmatched ']'\n"
     ]
    }
   ],
   "source": [
    "adata = ep.dt.diabetes_130()\n",
    "adata[]]"
   ]
  },
  {
   "cell_type": "code",
   "execution_count": 253,
   "metadata": {},
   "outputs": [
    {
     "data": {
      "text/plain": [
       "array([[1],\n",
       "       [3],\n",
       "       [2],\n",
       "       ...,\n",
       "       [1],\n",
       "       [10],\n",
       "       [6]], dtype=object)"
      ]
     },
     "execution_count": 253,
     "metadata": {},
     "output_type": "execute_result"
    }
   ],
   "source": [
    "adata.X[:, adata.var_names == \"time_in_hospital_days\"]"
   ]
  },
  {
   "cell_type": "code",
   "execution_count": null,
   "metadata": {},
   "outputs": [],
   "source": []
  },
  {
   "cell_type": "code",
   "execution_count": 78,
   "metadata": {},
   "outputs": [
    {
     "name": "stdout",
     "output_type": "stream",
     "text": [
      "\u001b[1;35m2024-02-14 11:15:44,787\u001b[0m - \u001b[1;34mroot\u001b[0m \u001b[1;37mINFO - Transformed passed DataFrame into an AnnData object with n_obs x n_vars = `101766` x `47`.\u001b[0m\n",
      "gender                    float64\n",
      "race                     category\n",
      "weight                   category\n",
      "time_in_hospital_days     float64\n",
      "dtype: object\n"
     ]
    },
    {
     "data": {
      "text/html": [
       "<div>\n",
       "<style scoped>\n",
       "    .dataframe tbody tr th:only-of-type {\n",
       "        vertical-align: middle;\n",
       "    }\n",
       "\n",
       "    .dataframe tbody tr th {\n",
       "        vertical-align: top;\n",
       "    }\n",
       "\n",
       "    .dataframe thead th {\n",
       "        text-align: right;\n",
       "    }\n",
       "</style>\n",
       "<table border=\"1\" class=\"dataframe\">\n",
       "  <thead>\n",
       "    <tr style=\"text-align: right;\">\n",
       "      <th></th>\n",
       "      <th></th>\n",
       "      <th>Missing</th>\n",
       "      <th>Overall</th>\n",
       "    </tr>\n",
       "  </thead>\n",
       "  <tbody>\n",
       "    <tr>\n",
       "      <th>n</th>\n",
       "      <th></th>\n",
       "      <td></td>\n",
       "      <td>101766</td>\n",
       "    </tr>\n",
       "    <tr>\n",
       "      <th rowspan=\"2\" valign=\"top\">gender, n (%)</th>\n",
       "      <th>0.0</th>\n",
       "      <td>3</td>\n",
       "      <td>54708 (53.8)</td>\n",
       "    </tr>\n",
       "    <tr>\n",
       "      <th>1.0</th>\n",
       "      <td></td>\n",
       "      <td>47055 (46.2)</td>\n",
       "    </tr>\n",
       "    <tr>\n",
       "      <th rowspan=\"5\" valign=\"top\">race, n (%)</th>\n",
       "      <th>AfricanAmerican</th>\n",
       "      <td>2273</td>\n",
       "      <td>19210 (19.3)</td>\n",
       "    </tr>\n",
       "    <tr>\n",
       "      <th>Asian</th>\n",
       "      <td></td>\n",
       "      <td>641 (0.6)</td>\n",
       "    </tr>\n",
       "    <tr>\n",
       "      <th>Caucasian</th>\n",
       "      <td></td>\n",
       "      <td>76099 (76.5)</td>\n",
       "    </tr>\n",
       "    <tr>\n",
       "      <th>Hispanic</th>\n",
       "      <td></td>\n",
       "      <td>2037 (2.0)</td>\n",
       "    </tr>\n",
       "    <tr>\n",
       "      <th>Other</th>\n",
       "      <td></td>\n",
       "      <td>1506 (1.5)</td>\n",
       "    </tr>\n",
       "    <tr>\n",
       "      <th rowspan=\"9\" valign=\"top\">weight, n (%)</th>\n",
       "      <th>&gt;200</th>\n",
       "      <td>98569</td>\n",
       "      <td>3 (0.1)</td>\n",
       "    </tr>\n",
       "    <tr>\n",
       "      <th>[0-25)</th>\n",
       "      <td></td>\n",
       "      <td>48 (1.5)</td>\n",
       "    </tr>\n",
       "    <tr>\n",
       "      <th>[100-125)</th>\n",
       "      <td></td>\n",
       "      <td>625 (19.5)</td>\n",
       "    </tr>\n",
       "    <tr>\n",
       "      <th>[125-150)</th>\n",
       "      <td></td>\n",
       "      <td>145 (4.5)</td>\n",
       "    </tr>\n",
       "    <tr>\n",
       "      <th>[150-175)</th>\n",
       "      <td></td>\n",
       "      <td>35 (1.1)</td>\n",
       "    </tr>\n",
       "    <tr>\n",
       "      <th>[175-200)</th>\n",
       "      <td></td>\n",
       "      <td>11 (0.3)</td>\n",
       "    </tr>\n",
       "    <tr>\n",
       "      <th>[25-50)</th>\n",
       "      <td></td>\n",
       "      <td>97 (3.0)</td>\n",
       "    </tr>\n",
       "    <tr>\n",
       "      <th>[50-75)</th>\n",
       "      <td></td>\n",
       "      <td>897 (28.1)</td>\n",
       "    </tr>\n",
       "    <tr>\n",
       "      <th>[75-100)</th>\n",
       "      <td></td>\n",
       "      <td>1336 (41.8)</td>\n",
       "    </tr>\n",
       "    <tr>\n",
       "      <th>time_in_hospital_days, mean (SD)</th>\n",
       "      <th></th>\n",
       "      <td>0</td>\n",
       "      <td>4.9 (3.0)</td>\n",
       "    </tr>\n",
       "  </tbody>\n",
       "</table>\n",
       "</div><br />"
      ],
      "text/plain": [
       "                                                 Missing       Overall\n",
       "n                                                               101766\n",
       "gender, n (%)                    0.0                   3  54708 (53.8)\n",
       "                                 1.0                      47055 (46.2)\n",
       "race, n (%)                      AfricanAmerican    2273  19210 (19.3)\n",
       "                                 Asian                       641 (0.6)\n",
       "                                 Caucasian                76099 (76.5)\n",
       "                                 Hispanic                   2037 (2.0)\n",
       "                                 Other                      1506 (1.5)\n",
       "weight, n (%)                    >200              98569       3 (0.1)\n",
       "                                 [0-25)                       48 (1.5)\n",
       "                                 [100-125)                  625 (19.5)\n",
       "                                 [125-150)                   145 (4.5)\n",
       "                                 [150-175)                    35 (1.1)\n",
       "                                 [175-200)                    11 (0.3)\n",
       "                                 [25-50)                      97 (3.0)\n",
       "                                 [50-75)                    897 (28.1)\n",
       "                                 [75-100)                  1336 (41.8)\n",
       "time_in_hospital_days, mean (SD)                       0     4.9 (3.0)"
      ]
     },
     "execution_count": 78,
     "metadata": {},
     "output_type": "execute_result"
    }
   ],
   "source": [
    "adata = ep.dt.diabetes_130(columns_obs_only=[\"gender\", \"race\", \"weight\", \"time_in_hospital_days\"])\n",
    "adata.obs.time_in_hospital_days = adata.obs.time_in_hospital_days.astype(\"float\") + np.random.random(adata.n_obs)\n",
    "print(adata.obs.dtypes)\n",
    "TableOne(adata.obs)"
   ]
  },
  {
   "cell_type": "code",
   "execution_count": 156,
   "metadata": {},
   "outputs": [
    {
     "name": "stdout",
     "output_type": "stream",
     "text": [
      "\u001b[1;35m2024-02-14 13:01:31,453\u001b[0m - \u001b[1;34mroot\u001b[0m \u001b[1;37mINFO - Transformed passed DataFrame into an AnnData object with n_obs x n_vars = `101766` x `48`.\u001b[0m\n"
     ]
    },
    {
     "data": {
      "image/png": "[encoded data removed]",
      "text/plain": [
       "<Figure size 700x700 with 2 Axes>"
      ]
     },
     "metadata": {},
     "output_type": "display_data"
    }
   ],
   "source": [
    "adata = ep.dt.diabetes_130(columns_obs_only=[\"gender\", \"race\", \"time_in_hospital_days\"])\n",
    "pop_track = ep.tl.PopulationTracker(adata, categorical=[\"gender\", \"race\"])\n",
    "pop_track(adata, label=\"Initial cohort\")\n",
    "adata = adata[:1000]\n",
    "pop_track(adata, label=\"Cohort 1\", operations_done=\"filtered to first 1000 entries\")\n",
    "pop_track.plot_population_change(\n",
    "    subfigure_title=True, subplots_kwargs={\"figsize\": (7, 7)}, legend_kwargs={\"bbox_to_anchor\": (1, 1)}\n",
    ")"
   ]
  },
  {
   "cell_type": "code",
   "execution_count": 127,
   "metadata": {},
   "outputs": [
    {
     "data": {
      "image/svg+xml": [
       "<?xml version=\"1.0\" encoding=\"UTF-8\" standalone=\"no\"?>\n",
       "<!DOCTYPE svg PUBLIC \"-//W3C//DTD SVG 1.1//EN\"\n",
       " \"http://www.w3.org/Graphics/SVG/1.1/DTD/svg11.dtd\">\n",
       "<!-- Generated by graphviz version 9.0.0 (20230911.1827)\n",
       " -->\n",
       "<!-- Pages: 1 -->\n",
       "<svg width=\"201pt\" height=\"143pt\"\n",
       " viewBox=\"0.00 0.00 200.50 142.50\" xmlns=\"http://www.w3.org/2000/svg\" xmlns:xlink=\"http://www.w3.org/1999/xlink\">\n",
       "<g id=\"graph0\" class=\"graph\" transform=\"scale(1 1) rotate(0) translate(4 138.5)\">\n",
       "<polygon fill=\"white\" stroke=\"none\" points=\"-4,4 -4,-138.5 196.5,-138.5 196.5,4 -4,4\"/>\n",
       "<!-- 0 -->\n",
       "<g id=\"node1\" class=\"node\">\n",
       "<title>0</title>\n",
       "<polygon fill=\"lightgrey\" stroke=\"black\" points=\"86.5,-134.5 0,-134.5 0,-93.5 86.5,-93.5 86.5,-134.5\"/>\n",
       "<text text-anchor=\"middle\" x=\"43.25\" y=\"-117.2\" font-family=\"Times,serif\" font-size=\"14.00\">Initial cohort</text>\n",
       "<text text-anchor=\"middle\" x=\"43.25\" y=\"-100.7\" font-family=\"Times,serif\" font-size=\"14.00\"> (n=101766)</text>\n",
       "</g>\n",
       "<!-- 1 -->\n",
       "<g id=\"node2\" class=\"node\">\n",
       "<title>1</title>\n",
       "<polygon fill=\"lightgrey\" stroke=\"black\" points=\"78.62,-41 7.88,-41 7.88,0 78.62,0 78.62,-41\"/>\n",
       "<text text-anchor=\"middle\" x=\"43.25\" y=\"-23.7\" font-family=\"Times,serif\" font-size=\"14.00\">Cohort 1</text>\n",
       "<text text-anchor=\"middle\" x=\"43.25\" y=\"-7.2\" font-family=\"Times,serif\" font-size=\"14.00\"> (n=1000)</text>\n",
       "</g>\n",
       "<!-- 0&#45;&gt;1 -->\n",
       "<g id=\"edge1\" class=\"edge\">\n",
       "<title>0&#45;&gt;1</title>\n",
       "<path fill=\"none\" stroke=\"black\" d=\"M43.25,-93.15C43.25,-81.28 43.25,-65.94 43.25,-52.5\"/>\n",
       "<polygon fill=\"black\" stroke=\"black\" points=\"46.75,-52.83 43.25,-42.83 39.75,-52.83 46.75,-52.83\"/>\n",
       "<text text-anchor=\"middle\" x=\"117.88\" y=\"-62.2\" font-family=\"Times,serif\" font-size=\"14.00\">filtered to first 1000 entries</text>\n",
       "</g>\n",
       "</g>\n",
       "</svg>\n"
      ],
      "text/plain": [
       "<graphviz.graphs.Digraph at 0x2c950aa50>"
      ]
     },
     "execution_count": 127,
     "metadata": {},
     "output_type": "execute_result"
    }
   ],
   "source": [
    "pop_track.plot_flowchart()"
   ]
  },
  {
   "cell_type": "code",
   "execution_count": 107,
   "metadata": {},
   "outputs": [
    {
     "data": {
      "text/plain": [
       "{'gender': {0.0: [53.8, 52.4], 1.0: [46.2, 47.6]},\n",
       " 'race': {'AfricanAmerican': [19.3, 25.9],\n",
       "  'Asian': [0.6, 0.7],\n",
       "  'Caucasian': [76.5, 70.4],\n",
       "  'Hispanic': [2.0, 0.8],\n",
       "  'Other': [1.5, 2.2]},\n",
       " 'weight': {'>200': [0.1, 0],\n",
       "  '[0-25)': [1.5, 0],\n",
       "  '[100-125)': [19.5, 0],\n",
       "  '[125-150)': [4.5, 0],\n",
       "  '[150-175)': [1.1, 0],\n",
       "  '[175-200)': [0.3, 0],\n",
       "  '[25-50)': [3.0, 0],\n",
       "  '[50-75)': [28.1, 0],\n",
       "  '[75-100)': [41.8, 0]},\n",
       " 'time_in_hospital_days': ['4.4 (3.0)', '4.6 (3.2)']}"
      ]
     },
     "execution_count": 107,
     "metadata": {},
     "output_type": "execute_result"
    }
   ],
   "source": [
    "pop_track.track"
   ]
  },
  {
   "cell_type": "code",
   "execution_count": 116,
   "metadata": {},
   "outputs": [
    {
     "data": {
      "image/png": "[encoded data removed]",
      "text/plain": [
       "<Figure size 700x700 with 2 Axes>"
      ]
     },
     "metadata": {},
     "output_type": "display_data"
    }
   ],
   "source": [
    "pop_track.plot_population_change()"
   ]
  },
  {
   "cell_type": "code",
   "execution_count": 99,
   "metadata": {},
   "outputs": [
    {
     "data": {
      "text/plain": [
       "{'gender': {0.0: [53.8, 52.4], 1.0: [46.2, 47.6]},\n",
       " 'race': {'AfricanAmerican': [19.3, 25.9],\n",
       "  'Asian': [0.6, 0.7],\n",
       "  'Caucasian': [76.5, 70.4],\n",
       "  'Hispanic': [2.0, 0.8],\n",
       "  'Other': [1.5, 2.2]},\n",
       " 'weight': {'>200': [0.1, 0],\n",
       "  '[0-25)': [1.5, 0],\n",
       "  '[100-125)': [19.5, 0],\n",
       "  '[125-150)': [4.5, 0],\n",
       "  '[150-175)': [1.1, 0],\n",
       "  '[175-200)': [0.3, 0],\n",
       "  '[25-50)': [3.0, 0],\n",
       "  '[50-75)': [28.1, 0],\n",
       "  '[75-100)': [41.8, 0]},\n",
       " 'time_in_hospital_days': ['4.4 (3.0)', '4.6 (3.2)']}"
      ]
     },
     "execution_count": 99,
     "metadata": {},
     "output_type": "execute_result"
    }
   ],
   "source": [
    "pop_track.track"
   ]
  },
  {
   "cell_type": "code",
   "execution_count": 97,
   "metadata": {},
   "outputs": [
    {
     "name": "stdout",
     "output_type": "stream",
     "text": [
      "\u001b[1;35m2024-02-14 11:56:20,020\u001b[0m - \u001b[1;34mroot\u001b[0m \u001b[1;37mINFO - Transformed passed DataFrame into an AnnData object with n_obs x n_vars = `101766` x `47`.\u001b[0m\n"
     ]
    },
    {
     "ename": "KeyError",
     "evalue": "0",
     "output_type": "error",
     "traceback": [
      "\u001b[0;31m---------------------------------------------------------------------------\u001b[0m",
      "\u001b[0;31mValueError\u001b[0m                                Traceback (most recent call last)",
      "File \u001b[0;32m~/Documents/ehrapy_clean/ehrapy_venv_feb/lib/python3.11/site-packages/pandas/core/indexes/range.py:413\u001b[0m, in \u001b[0;36mRangeIndex.get_loc\u001b[0;34m(self, key)\u001b[0m\n\u001b[1;32m    412\u001b[0m \u001b[38;5;28;01mtry\u001b[39;00m:\n\u001b[0;32m--> 413\u001b[0m     \u001b[38;5;28;01mreturn\u001b[39;00m \u001b[38;5;28;43mself\u001b[39;49m\u001b[38;5;241;43m.\u001b[39;49m\u001b[43m_range\u001b[49m\u001b[38;5;241;43m.\u001b[39;49m\u001b[43mindex\u001b[49m\u001b[43m(\u001b[49m\u001b[43mnew_key\u001b[49m\u001b[43m)\u001b[49m\n\u001b[1;32m    414\u001b[0m \u001b[38;5;28;01mexcept\u001b[39;00m \u001b[38;5;167;01mValueError\u001b[39;00m \u001b[38;5;28;01mas\u001b[39;00m err:\n",
      "\u001b[0;31mValueError\u001b[0m: 0 is not in range",
      "\nThe above exception was the direct cause of the following exception:\n",
      "\u001b[0;31mKeyError\u001b[0m                                  Traceback (most recent call last)",
      "Cell \u001b[0;32mIn[97], line 7\u001b[0m\n\u001b[1;32m      5\u001b[0m adata \u001b[38;5;241m=\u001b[39m adata[:\u001b[38;5;241m1000\u001b[39m]\n\u001b[1;32m      6\u001b[0m pop_track(adata, label\u001b[38;5;241m=\u001b[39m\u001b[38;5;124m\"\u001b[39m\u001b[38;5;124mFiltered cohort\u001b[39m\u001b[38;5;124m\"\u001b[39m, operations_done\u001b[38;5;241m=\u001b[39m\u001b[38;5;124m\"\u001b[39m\u001b[38;5;124mfiltered to first 1000 entries\u001b[39m\u001b[38;5;124m\"\u001b[39m)\n\u001b[0;32m----> 7\u001b[0m \u001b[43mpop_track\u001b[49m\u001b[38;5;241;43m.\u001b[39;49m\u001b[43mplot_population_change\u001b[49m\u001b[43m(\u001b[49m\u001b[43m)\u001b[49m\n",
      "File \u001b[0;32m~/Documents/ehrapy_clean/ehrapy/ehrapy/tools/population_tracking/_pop_tracker.py:173\u001b[0m, in \u001b[0;36mPopulationTracker.plot_population_change\u001b[0;34m(self, set_axis_labels, save, return_plot)\u001b[0m\n\u001b[1;32m    171\u001b[0m \u001b[38;5;28;01mfor\u001b[39;00m idx, ax \u001b[38;5;129;01min\u001b[39;00m \u001b[38;5;28menumerate\u001b[39m(axes):\n\u001b[1;32m    172\u001b[0m     \u001b[38;5;28;01mfor\u001b[39;00m pos, (_cols, data) \u001b[38;5;129;01min\u001b[39;00m \u001b[38;5;28menumerate\u001b[39m(\u001b[38;5;28mself\u001b[39m\u001b[38;5;241m.\u001b[39mtrack\u001b[38;5;241m.\u001b[39mitems()):\n\u001b[0;32m--> 173\u001b[0m         data \u001b[38;5;241m=\u001b[39m \u001b[43mpd\u001b[49m\u001b[38;5;241;43m.\u001b[39;49m\u001b[43mDataFrame\u001b[49m\u001b[43m(\u001b[49m\u001b[43mdata\u001b[49m\u001b[43m)\u001b[49m\u001b[38;5;241;43m.\u001b[39;49m\u001b[43mloc\u001b[49m\u001b[43m[\u001b[49m\u001b[43midx\u001b[49m\u001b[43m]\u001b[49m\n\u001b[1;32m    175\u001b[0m         cumwidth \u001b[38;5;241m=\u001b[39m \u001b[38;5;241m0\u001b[39m\n\u001b[1;32m    177\u001b[0m         \u001b[38;5;66;03m# Adjust the hue shift based on the category position such that the colors are more distinguishable\u001b[39;00m\n",
      "File \u001b[0;32m~/Documents/ehrapy_clean/ehrapy_venv_feb/lib/python3.11/site-packages/pandas/core/indexing.py:1192\u001b[0m, in \u001b[0;36m_LocationIndexer.__getitem__\u001b[0;34m(self, key)\u001b[0m\n\u001b[1;32m   1190\u001b[0m maybe_callable \u001b[38;5;241m=\u001b[39m com\u001b[38;5;241m.\u001b[39mapply_if_callable(key, \u001b[38;5;28mself\u001b[39m\u001b[38;5;241m.\u001b[39mobj)\n\u001b[1;32m   1191\u001b[0m maybe_callable \u001b[38;5;241m=\u001b[39m \u001b[38;5;28mself\u001b[39m\u001b[38;5;241m.\u001b[39m_check_deprecated_callable_usage(key, maybe_callable)\n\u001b[0;32m-> 1192\u001b[0m \u001b[38;5;28;01mreturn\u001b[39;00m \u001b[38;5;28;43mself\u001b[39;49m\u001b[38;5;241;43m.\u001b[39;49m\u001b[43m_getitem_axis\u001b[49m\u001b[43m(\u001b[49m\u001b[43mmaybe_callable\u001b[49m\u001b[43m,\u001b[49m\u001b[43m \u001b[49m\u001b[43maxis\u001b[49m\u001b[38;5;241;43m=\u001b[39;49m\u001b[43maxis\u001b[49m\u001b[43m)\u001b[49m\n",
      "File \u001b[0;32m~/Documents/ehrapy_clean/ehrapy_venv_feb/lib/python3.11/site-packages/pandas/core/indexing.py:1432\u001b[0m, in \u001b[0;36m_LocIndexer._getitem_axis\u001b[0;34m(self, key, axis)\u001b[0m\n\u001b[1;32m   1430\u001b[0m \u001b[38;5;66;03m# fall thru to straight lookup\u001b[39;00m\n\u001b[1;32m   1431\u001b[0m \u001b[38;5;28mself\u001b[39m\u001b[38;5;241m.\u001b[39m_validate_key(key, axis)\n\u001b[0;32m-> 1432\u001b[0m \u001b[38;5;28;01mreturn\u001b[39;00m \u001b[38;5;28;43mself\u001b[39;49m\u001b[38;5;241;43m.\u001b[39;49m\u001b[43m_get_label\u001b[49m\u001b[43m(\u001b[49m\u001b[43mkey\u001b[49m\u001b[43m,\u001b[49m\u001b[43m \u001b[49m\u001b[43maxis\u001b[49m\u001b[38;5;241;43m=\u001b[39;49m\u001b[43maxis\u001b[49m\u001b[43m)\u001b[49m\n",
      "File \u001b[0;32m~/Documents/ehrapy_clean/ehrapy_venv_feb/lib/python3.11/site-packages/pandas/core/indexing.py:1382\u001b[0m, in \u001b[0;36m_LocIndexer._get_label\u001b[0;34m(self, label, axis)\u001b[0m\n\u001b[1;32m   1380\u001b[0m \u001b[38;5;28;01mdef\u001b[39;00m \u001b[38;5;21m_get_label\u001b[39m(\u001b[38;5;28mself\u001b[39m, label, axis: AxisInt):\n\u001b[1;32m   1381\u001b[0m     \u001b[38;5;66;03m# GH#5567 this will fail if the label is not present in the axis.\u001b[39;00m\n\u001b[0;32m-> 1382\u001b[0m     \u001b[38;5;28;01mreturn\u001b[39;00m \u001b[38;5;28;43mself\u001b[39;49m\u001b[38;5;241;43m.\u001b[39;49m\u001b[43mobj\u001b[49m\u001b[38;5;241;43m.\u001b[39;49m\u001b[43mxs\u001b[49m\u001b[43m(\u001b[49m\u001b[43mlabel\u001b[49m\u001b[43m,\u001b[49m\u001b[43m \u001b[49m\u001b[43maxis\u001b[49m\u001b[38;5;241;43m=\u001b[39;49m\u001b[43maxis\u001b[49m\u001b[43m)\u001b[49m\n",
      "File \u001b[0;32m~/Documents/ehrapy_clean/ehrapy_venv_feb/lib/python3.11/site-packages/pandas/core/generic.py:4295\u001b[0m, in \u001b[0;36mNDFrame.xs\u001b[0;34m(self, key, axis, level, drop_level)\u001b[0m\n\u001b[1;32m   4293\u001b[0m             new_index \u001b[38;5;241m=\u001b[39m index[loc]\n\u001b[1;32m   4294\u001b[0m \u001b[38;5;28;01melse\u001b[39;00m:\n\u001b[0;32m-> 4295\u001b[0m     loc \u001b[38;5;241m=\u001b[39m \u001b[43mindex\u001b[49m\u001b[38;5;241;43m.\u001b[39;49m\u001b[43mget_loc\u001b[49m\u001b[43m(\u001b[49m\u001b[43mkey\u001b[49m\u001b[43m)\u001b[49m\n\u001b[1;32m   4297\u001b[0m     \u001b[38;5;28;01mif\u001b[39;00m \u001b[38;5;28misinstance\u001b[39m(loc, np\u001b[38;5;241m.\u001b[39mndarray):\n\u001b[1;32m   4298\u001b[0m         \u001b[38;5;28;01mif\u001b[39;00m loc\u001b[38;5;241m.\u001b[39mdtype \u001b[38;5;241m==\u001b[39m np\u001b[38;5;241m.\u001b[39mbool_:\n",
      "File \u001b[0;32m~/Documents/ehrapy_clean/ehrapy_venv_feb/lib/python3.11/site-packages/pandas/core/indexes/range.py:415\u001b[0m, in \u001b[0;36mRangeIndex.get_loc\u001b[0;34m(self, key)\u001b[0m\n\u001b[1;32m    413\u001b[0m         \u001b[38;5;28;01mreturn\u001b[39;00m \u001b[38;5;28mself\u001b[39m\u001b[38;5;241m.\u001b[39m_range\u001b[38;5;241m.\u001b[39mindex(new_key)\n\u001b[1;32m    414\u001b[0m     \u001b[38;5;28;01mexcept\u001b[39;00m \u001b[38;5;167;01mValueError\u001b[39;00m \u001b[38;5;28;01mas\u001b[39;00m err:\n\u001b[0;32m--> 415\u001b[0m         \u001b[38;5;28;01mraise\u001b[39;00m \u001b[38;5;167;01mKeyError\u001b[39;00m(key) \u001b[38;5;28;01mfrom\u001b[39;00m \u001b[38;5;21;01merr\u001b[39;00m\n\u001b[1;32m    416\u001b[0m \u001b[38;5;28;01mif\u001b[39;00m \u001b[38;5;28misinstance\u001b[39m(key, Hashable):\n\u001b[1;32m    417\u001b[0m     \u001b[38;5;28;01mraise\u001b[39;00m \u001b[38;5;167;01mKeyError\u001b[39;00m(key)\n",
      "\u001b[0;31mKeyError\u001b[0m: 0"
     ]
    },
    {
     "data": {
      "image/png": "[encoded data removed]",
      "text/plain": [
       "<Figure size 700x700 with 2 Axes>"
      ]
     },
     "metadata": {},
     "output_type": "display_data"
    }
   ],
   "source": [
    "adata = ep.dt.diabetes_130(columns_obs_only=[\"gender\", \"race\", \"weight\", \"time_in_hospital_days\"])\n",
    "adata.obs.gender = adata.obs.gender.astype(\"category\")\n",
    "pop_track = ep.tl.PopulationTracker(adata, categorical=[\"gender\", \"race\", \"weight\"])\n",
    "pop_track(adata, label=\"Baseline cohort\")\n",
    "adata = adata[:1000]\n",
    "pop_track(adata, label=\"Filtered cohort\", operations_done=\"filtered to first 1000 entries\")\n",
    "pop_track.plot_population_change()"
   ]
  },
  {
   "cell_type": "code",
   "execution_count": 187,
   "metadata": {},
   "outputs": [
    {
     "ename": "AttributeError",
     "evalue": "'Digraph' object has no attribute 'savefig'",
     "output_type": "error",
     "traceback": [
      "\u001b[0;31m---------------------------------------------------------------------------\u001b[0m",
      "\u001b[0;31mAttributeError\u001b[0m                            Traceback (most recent call last)",
      "Cell \u001b[0;32mIn[187], line 1\u001b[0m\n\u001b[0;32m----> 1\u001b[0m \u001b[43mdot\u001b[49m\u001b[38;5;241;43m.\u001b[39;49m\u001b[43msavefig\u001b[49m(\u001b[38;5;124m\"\u001b[39m\u001b[38;5;124mflowchart.png\u001b[39m\u001b[38;5;124m\"\u001b[39m)\n",
      "\u001b[0;31mAttributeError\u001b[0m: 'Digraph' object has no attribute 'savefig'"
     ]
    }
   ],
   "source": [
    "dot.savefig(\"flowchart.png\")"
   ]
  },
  {
   "cell_type": "code",
   "execution_count": 117,
   "metadata": {},
   "outputs": [
    {
     "data": {
      "image/png": "[encoded data removed]",
      "text/latex": [
       "$\\displaystyle 2$"
      ],
      "text/plain": [
       "2"
      ]
     },
     "execution_count": 117,
     "metadata": {},
     "output_type": "execute_result"
    }
   ],
   "source": [
    "pl.tracked_steps"
   ]
  },
  {
   "cell_type": "code",
   "execution_count": 120,
   "metadata": {},
   "outputs": [
    {
     "data": {
      "text/plain": [
       "[None, 'filtered nothing lol']"
      ]
     },
     "execution_count": 120,
     "metadata": {},
     "output_type": "execute_result"
    }
   ],
   "source": [
    "pl._tracked_operations"
   ]
  },
  {
   "cell_type": "code",
   "execution_count": 136,
   "metadata": {},
   "outputs": [
    {
     "data": {
      "image/svg+xml": [
       "<?xml version=\"1.0\" encoding=\"UTF-8\" standalone=\"no\"?>\n",
       "<!DOCTYPE svg PUBLIC \"-//W3C//DTD SVG 1.1//EN\"\n",
       " \"http://www.w3.org/Graphics/SVG/1.1/DTD/svg11.dtd\">\n",
       "<!-- Generated by graphviz version 9.0.0 (20230911.1827)\n",
       " -->\n",
       "<!-- Pages: 1 -->\n",
       "<svg width=\"176pt\" height=\"143pt\"\n",
       " viewBox=\"0.00 0.00 175.75 142.50\" xmlns=\"http://www.w3.org/2000/svg\" xmlns:xlink=\"http://www.w3.org/1999/xlink\">\n",
       "<g id=\"graph0\" class=\"graph\" transform=\"scale(1 1) rotate(0) translate(4 138.5)\">\n",
       "<polygon fill=\"white\" stroke=\"none\" points=\"-4,4 -4,-138.5 171.75,-138.5 171.75,4 -4,4\"/>\n",
       "<!-- 0 -->\n",
       "<g id=\"node1\" class=\"node\">\n",
       "<title>0</title>\n",
       "<polygon fill=\"lightgrey\" stroke=\"black\" points=\"64,-134.5 0,-134.5 0,-93.5 64,-93.5 64,-134.5\"/>\n",
       "<text text-anchor=\"middle\" x=\"32\" y=\"-117.2\" font-family=\"Times,serif\" font-size=\"14.00\">Step 0</text>\n",
       "<text text-anchor=\"middle\" x=\"32\" y=\"-100.7\" font-family=\"Times,serif\" font-size=\"14.00\"> (n=150)</text>\n",
       "</g>\n",
       "<!-- 1 -->\n",
       "<g id=\"node2\" class=\"node\">\n",
       "<title>1</title>\n",
       "<polygon fill=\"lightgrey\" stroke=\"black\" points=\"60.62,-41 3.38,-41 3.38,0 60.62,0 60.62,-41\"/>\n",
       "<text text-anchor=\"middle\" x=\"32\" y=\"-23.7\" font-family=\"Times,serif\" font-size=\"14.00\">filtered</text>\n",
       "<text text-anchor=\"middle\" x=\"32\" y=\"-7.2\" font-family=\"Times,serif\" font-size=\"14.00\"> (n=75)</text>\n",
       "</g>\n",
       "<!-- 0&#45;&gt;1 -->\n",
       "<g id=\"edge1\" class=\"edge\">\n",
       "<title>0&#45;&gt;1</title>\n",
       "<path fill=\"none\" stroke=\"black\" d=\"M32,-93.15C32,-81.28 32,-65.94 32,-52.5\"/>\n",
       "<polygon fill=\"black\" stroke=\"black\" points=\"35.5,-52.83 32,-42.83 28.5,-52.83 35.5,-52.83\"/>\n",
       "<text text-anchor=\"middle\" x=\"99.88\" y=\"-62.2\" font-family=\"Times,serif\" font-size=\"14.00\">filtered to first 75 entries</text>\n",
       "</g>\n",
       "</g>\n",
       "</svg>\n"
      ],
      "text/plain": [
       "<graphviz.graphs.Digraph at 0x2b37649d0>"
      ]
     },
     "execution_count": 136,
     "metadata": {},
     "output_type": "execute_result"
    }
   ],
   "source": [
    "pl.plot_flowchart()"
   ]
  },
  {
   "cell_type": "markdown",
   "metadata": {},
   "source": []
  },
  {
   "cell_type": "code",
   "execution_count": 20,
   "metadata": {},
   "outputs": [
    {
     "data": {
      "text/html": [
       "<div>\n",
       "<style scoped>\n",
       "    .dataframe tbody tr th:only-of-type {\n",
       "        vertical-align: middle;\n",
       "    }\n",
       "\n",
       "    .dataframe tbody tr th {\n",
       "        vertical-align: top;\n",
       "    }\n",
       "\n",
       "    .dataframe thead th {\n",
       "        text-align: right;\n",
       "    }\n",
       "</style>\n",
       "<table border=\"1\" class=\"dataframe\">\n",
       "  <thead>\n",
       "    <tr style=\"text-align: right;\">\n",
       "      <th></th>\n",
       "      <th></th>\n",
       "      <th>Missing</th>\n",
       "      <th>Overall</th>\n",
       "    </tr>\n",
       "  </thead>\n",
       "  <tbody>\n",
       "    <tr>\n",
       "      <th>n</th>\n",
       "      <th></th>\n",
       "      <td></td>\n",
       "      <td>150</td>\n",
       "    </tr>\n",
       "    <tr>\n",
       "      <th rowspan=\"3\" valign=\"top\">ethnicity, n (%)</th>\n",
       "      <th>asian</th>\n",
       "      <td>0</td>\n",
       "      <td>43 (28.7)</td>\n",
       "    </tr>\n",
       "    <tr>\n",
       "      <th>black</th>\n",
       "      <td></td>\n",
       "      <td>52 (34.7)</td>\n",
       "    </tr>\n",
       "    <tr>\n",
       "      <th>white</th>\n",
       "      <td></td>\n",
       "      <td>55 (36.7)</td>\n",
       "    </tr>\n",
       "    <tr>\n",
       "      <th rowspan=\"2\" valign=\"top\">gender, n (%)</th>\n",
       "      <th>female</th>\n",
       "      <td>0</td>\n",
       "      <td>66 (44.0)</td>\n",
       "    </tr>\n",
       "    <tr>\n",
       "      <th>male</th>\n",
       "      <td></td>\n",
       "      <td>84 (56.0)</td>\n",
       "    </tr>\n",
       "    <tr>\n",
       "      <th rowspan=\"2\" valign=\"top\">proficiency, n (%)</th>\n",
       "      <th>high prof.</th>\n",
       "      <td>0</td>\n",
       "      <td>78 (52.0)</td>\n",
       "    </tr>\n",
       "    <tr>\n",
       "      <th>limited prof.</th>\n",
       "      <td></td>\n",
       "      <td>72 (48.0)</td>\n",
       "    </tr>\n",
       "  </tbody>\n",
       "</table>\n",
       "</div><br />"
      ],
      "text/plain": [
       "                                 Missing    Overall\n",
       "n                                               150\n",
       "ethnicity, n (%)   asian               0  43 (28.7)\n",
       "                   black                  52 (34.7)\n",
       "                   white                  55 (36.7)\n",
       "gender, n (%)      female              0  66 (44.0)\n",
       "                   male                   84 (56.0)\n",
       "proficiency, n (%) high prof.          0  78 (52.0)\n",
       "                   limited prof.          72 (48.0)"
      ]
     },
     "execution_count": 20,
     "metadata": {},
     "output_type": "execute_result"
    }
   ],
   "source": [
    "t1 = TableOne(random_dataset, columns=[\"ethnicity\", \"gender\", \"proficiency\"])\n",
    "t1"
   ]
  },
  {
   "cell_type": "code",
   "execution_count": 151,
   "metadata": {},
   "outputs": [
    {
     "data": {
      "text/plain": [
       "{'asian': [28.7, 24.0],\n",
       " 'black': [34.7, 34.0],\n",
       " 'white': [36.7, 42.0],\n",
       " 'male': [56.0, 56.0],\n",
       " 'female': [44.0, 44.0],\n",
       " 'high prof.': [52.0, 48.0],\n",
       " 'limited prof.': [48.0, 52.0]}"
      ]
     },
     "execution_count": 151,
     "metadata": {},
     "output_type": "execute_result"
    }
   ],
   "source": [
    "collated_data = {key: values1 + values2 for key, values1, values2 in zip(dpcts.keys(), dpcts.values(), dcpts2.values())}\n",
    "collated_data"
   ]
  },
  {
   "cell_type": "code",
   "execution_count": 155,
   "metadata": {},
   "outputs": [
    {
     "data": {
      "text/plain": [
       "{'asian': [28.7, 24.0], 'black': [34.7, 34.0], 'white': [36.7, 42.0]}"
      ]
     },
     "execution_count": 155,
     "metadata": {},
     "output_type": "execute_result"
    }
   ],
   "source": [
    "data_ethnicity = {key: value for key, value in collated_data.items() if key in [\"asian\", \"black\", \"white\"]}\n",
    "data_ethnicity"
   ]
  },
  {
   "cell_type": "code",
   "execution_count": 191,
   "metadata": {},
   "outputs": [
    {
     "data": {
      "text/plain": [
       "{'male': [56.0, 56.0], 'female': [44.0, 44.0]}"
      ]
     },
     "execution_count": 191,
     "metadata": {},
     "output_type": "execute_result"
    }
   ],
   "source": [
    "data_gender = {key: value for key, value in collated_data.items() if key in [\"male\", \"female\"]}\n",
    "data_gender"
   ]
  },
  {
   "cell_type": "code",
   "execution_count": 248,
   "metadata": {},
   "outputs": [
    {
     "data": {
      "text/plain": [
       "{'high prof.': [52.0, 48.0], 'limited prof.': [48.0, 52.0]}"
      ]
     },
     "execution_count": 248,
     "metadata": {},
     "output_type": "execute_result"
    }
   ],
   "source": [
    "data_prof = {key: value for key, value in collated_data.items() if key in [\"high prof.\", \"limited prof.\"]}\n",
    "data_prof"
   ]
  },
  {
   "cell_type": "code",
   "execution_count": 211,
   "metadata": {},
   "outputs": [
    {
     "data": {
      "text/html": [
       "<div>\n",
       "<style scoped>\n",
       "    .dataframe tbody tr th:only-of-type {\n",
       "        vertical-align: middle;\n",
       "    }\n",
       "\n",
       "    .dataframe tbody tr th {\n",
       "        vertical-align: top;\n",
       "    }\n",
       "\n",
       "    .dataframe thead th {\n",
       "        text-align: right;\n",
       "    }\n",
       "</style>\n",
       "<table border=\"1\" class=\"dataframe\">\n",
       "  <thead>\n",
       "    <tr style=\"text-align: right;\">\n",
       "      <th></th>\n",
       "      <th>asian</th>\n",
       "      <th>black</th>\n",
       "      <th>white</th>\n",
       "    </tr>\n",
       "  </thead>\n",
       "  <tbody>\n",
       "    <tr>\n",
       "      <th>0</th>\n",
       "      <td>28.7</td>\n",
       "      <td>34.7</td>\n",
       "      <td>36.7</td>\n",
       "    </tr>\n",
       "  </tbody>\n",
       "</table>\n",
       "</div>"
      ],
      "text/plain": [
       "   asian  black  white\n",
       "0   28.7   34.7   36.7"
      ]
     },
     "execution_count": 211,
     "metadata": {},
     "output_type": "execute_result"
    }
   ],
   "source": [
    "df_ethnicity"
   ]
  },
  {
   "cell_type": "code",
   "execution_count": 242,
   "metadata": {},
   "outputs": [
    {
     "name": "stdout",
     "output_type": "stream",
     "text": [
      "28.7\n",
      "34.7\n",
      "36.7\n"
     ]
    }
   ],
   "source": [
    "for v in l.iterrows():\n",
    "    print(v[1].values[0])"
   ]
  },
  {
   "cell_type": "code",
   "execution_count": 80,
   "metadata": {},
   "outputs": [
    {
     "name": "stdout",
     "output_type": "stream",
     "text": [
      "28.7\n",
      "34.7\n",
      "36.7\n",
      "56.0\n",
      "44.0\n",
      "52.0\n",
      "48.0\n",
      "24.0\n",
      "34.0\n",
      "42.0\n",
      "56.0\n",
      "44.0\n",
      "48.0\n",
      "52.0\n"
     ]
    },
    {
     "data": {
      "image/png": "[encoded data removed]",
      "text/plain": [
       "<Figure size 700x700 with 2 Axes>"
      ]
     },
     "metadata": {},
     "output_type": "display_data"
    }
   ],
   "source": [
    "import pandas as pd\n",
    "import matplotlib.pyplot as plt\n",
    "import seaborn as sns\n",
    "\n",
    "# Given data dictionaries\n",
    "data_ethnicity = {\"asian\": [28.7, 24.0], \"black\": [34.7, 34.0], \"white\": [36.7, 42.0]}\n",
    "\n",
    "data_gender = {\"male\": [56.0, 56.0], \"female\": [44.0, 44.0]}\n",
    "\n",
    "data_prof = {\"high prof.\": [52.0, 48.0], \"limited prof.\": [48.0, 52.0]}\n",
    "\n",
    "# Convert dictionaries to DataFrames\n",
    "df_ethnicity = pd.DataFrame(data_ethnicity)\n",
    "df_gender = pd.DataFrame(data_gender)\n",
    "df_prof = pd.DataFrame(data_prof)\n",
    "\n",
    "# Plotting\n",
    "fig, axes = plt.subplots(2, 1, figsize=(7, 7))\n",
    "\n",
    "# Plotting for the ethnicity with a small gap\n",
    "categories = [df_ethnicity, df_gender, df_prof]\n",
    "legend_labels = []\n",
    "\n",
    "for idx, ax in enumerate(axes):\n",
    "    for pos, data in enumerate([df_ethnicity.loc[idx], df_gender.loc[idx], df_prof.loc[idx]]):\n",
    "        cumwidth = 0\n",
    "        category = categories[pos]\n",
    "\n",
    "        hue_shift = (pos + 1) / len(categories[pos])  # Adjust the hue shift based on the category position\n",
    "        colors = sns.color_palette(\"husl\", len(category.columns))\n",
    "        adjusted_colors = [((color[0] + hue_shift) % 1, color[1], color[2]) for color in colors]\n",
    "\n",
    "        for i, value in enumerate(data):\n",
    "            print(value)\n",
    "            # value = value[1].values[0]  # Take the value based on idx\n",
    "            ax.barh(pos, value, left=cumwidth, color=adjusted_colors[i], height=0.8)\n",
    "\n",
    "            if value > 5:\n",
    "                # Add data labels\n",
    "                width = value\n",
    "                ax.text(\n",
    "                    cumwidth + width / 2,\n",
    "                    pos,\n",
    "                    \"{:.1f}\".format(value),\n",
    "                    ha=\"center\",\n",
    "                    va=\"center\",\n",
    "                    color=\"white\",\n",
    "                    fontweight=\"bold\",\n",
    "                )\n",
    "\n",
    "            ax.set_yticks([])\n",
    "            ax.set_xticks([])\n",
    "            cumwidth += value\n",
    "\n",
    "            legend_labels.append(category.columns[i])\n",
    "\n",
    "# makes the frames invisible\n",
    "# for ax in axes:\n",
    "#     ax.axis('off')\n",
    "\n",
    "\n",
    "# Add legend for the first subplot\n",
    "plt.legend(legend_labels, loc=\"best\", bbox_to_anchor=(-0.5, 1))  # ncol=len(legend_labels), bbox_to_anchor=(0.5, -0.3)\n",
    "\n",
    "plt.tight_layout()\n",
    "plt.show()"
   ]
  },
  {
   "cell_type": "code",
   "execution_count": 369,
   "metadata": {},
   "outputs": [
    {
     "ename": "AttributeError",
     "evalue": "'str' object has no attribute 'values'",
     "output_type": "error",
     "traceback": [
      "\u001b[0;31m---------------------------------------------------------------------------\u001b[0m",
      "\u001b[0;31mAttributeError\u001b[0m                            Traceback (most recent call last)",
      "Cell \u001b[0;32mIn[369], line 37\u001b[0m\n\u001b[1;32m     34\u001b[0m adjusted_colors \u001b[38;5;241m=\u001b[39m [((color[\u001b[38;5;241m0\u001b[39m] \u001b[38;5;241m+\u001b[39m hue_shift) \u001b[38;5;241m%\u001b[39m \u001b[38;5;241m1\u001b[39m, color[\u001b[38;5;241m1\u001b[39m], color[\u001b[38;5;241m2\u001b[39m]) \u001b[38;5;28;01mfor\u001b[39;00m color \u001b[38;5;129;01min\u001b[39;00m colors]\n\u001b[1;32m     36\u001b[0m \u001b[38;5;28;01mfor\u001b[39;00m i, value \u001b[38;5;129;01min\u001b[39;00m \u001b[38;5;28menumerate\u001b[39m(data):\n\u001b[0;32m---> 37\u001b[0m     value \u001b[38;5;241m=\u001b[39m \u001b[43mvalue\u001b[49m\u001b[43m[\u001b[49m\u001b[38;5;241;43m1\u001b[39;49m\u001b[43m]\u001b[49m\u001b[38;5;241;43m.\u001b[39;49m\u001b[43mvalues\u001b[49m[idx]  \u001b[38;5;66;03m# Take the value based on idx\u001b[39;00m\n\u001b[1;32m     38\u001b[0m     ax\u001b[38;5;241m.\u001b[39mbarh(pos, value, left\u001b[38;5;241m=\u001b[39mcumwidth, color\u001b[38;5;241m=\u001b[39madjusted_colors[i], height\u001b[38;5;241m=\u001b[39m\u001b[38;5;241m0.8\u001b[39m)\n\u001b[1;32m     40\u001b[0m     \u001b[38;5;28;01mif\u001b[39;00m value \u001b[38;5;241m>\u001b[39m \u001b[38;5;241m5\u001b[39m:\n\u001b[1;32m     41\u001b[0m         \u001b[38;5;66;03m# Add data labels\u001b[39;00m\n",
      "\u001b[0;31mAttributeError\u001b[0m: 'str' object has no attribute 'values'"
     ]
    },
    {
     "data": {
      "image/png": "[encoded data removed]",
      "text/plain": [
       "<Figure size 1000x1000 with 2 Axes>"
      ]
     },
     "metadata": {
      "image/png": {
       "height": 819,
       "width": 837
      }
     },
     "output_type": "display_data"
    }
   ],
   "source": [
    "import pandas as pd\n",
    "import matplotlib.pyplot as plt\n",
    "import seaborn as sns\n",
    "\n",
    "# Given data dictionaries\n",
    "data_ethnicity = {\"asian\": [28.7, 24.0], \"black\": [34.7, 34.0], \"white\": [36.7, 42.0]}\n",
    "\n",
    "data_gender = {\"male\": [56.0, 56.0], \"female\": [44.0, 44.0]}\n",
    "\n",
    "data_prof = {\"high prof.\": [52.0, 48.0], \"limited prof.\": [48.0, 52.0]}\n",
    "\n",
    "# Convert dictionaries to DataFrames\n",
    "df_ethnicity = pd.DataFrame(data_ethnicity)\n",
    "df_gender = pd.DataFrame(data_gender)\n",
    "df_prof = pd.DataFrame(data_prof)\n",
    "\n",
    "# Plotting\n",
    "fig, axes = plt.subplots(2, 1, figsize=(10, 10))\n",
    "\n",
    "# Plotting for the ethnicity with a small gap\n",
    "categories = [df_ethnicity, df_gender, df_prof]\n",
    "legend_labels = []\n",
    "\n",
    "for idx, ax in enumerate(axes):\n",
    "    for pos, data in enumerate(categories[idx].T.iterrows()):\n",
    "        cumwidth = 0\n",
    "        category = categories[idx]\n",
    "\n",
    "        hue_shift = (pos + 1) / len(categories[idx])  # Adjust the hue shift based on the category position\n",
    "        colors = sns.color_palette(\"husl\", len(category.columns))\n",
    "        adjusted_colors = [((color[0] + hue_shift) % 1, color[1], color[2]) for color in colors]\n",
    "\n",
    "        for i, value in enumerate(data):\n",
    "            value = value[1].values[idx]  # Take the value based on idx\n",
    "            ax.barh(pos, value, left=cumwidth, color=adjusted_colors[i], height=0.8)\n",
    "\n",
    "            if value > 5:\n",
    "                # Add data labels\n",
    "                width = value\n",
    "                ax.text(\n",
    "                    cumwidth + width / 2,\n",
    "                    pos,\n",
    "                    \"{:.1f}\".format(value),\n",
    "                    ha=\"center\",\n",
    "                    va=\"center\",\n",
    "                    color=\"white\",\n",
    "                    fontweight=\"bold\",\n",
    "                )\n",
    "\n",
    "            ax.set_yticks([])\n",
    "            ax.set_xticks([])\n",
    "            cumwidth += value\n",
    "\n",
    "            legend_labels.append(category.columns[i])\n",
    "\n",
    "# Set labels and title for the first subplot\n",
    "axes[0].set_title(\"First Numbers\")\n",
    "axes[0].set_xlabel(\"Percentage\")\n",
    "axes[0].set_yticks(range(len(categories[0])))\n",
    "axes[0].set_yticklabels(category_labels)\n",
    "\n",
    "# Set labels and title for the second subplot\n",
    "axes[1].set_title(\"Second Numbers\")\n",
    "axes[1].set_xlabel(\"Percentage\")\n",
    "axes[1].set_yticks(range(len(categories[0])))\n",
    "axes[1].set_yticklabels(category_labels)\n",
    "\n",
    "# Add legend for the first subplot\n",
    "axes[0].legend(legend_labels, loc=\"lower center\", ncol=len(legend_labels), bbox_to_anchor=(0.5, -0.1))\n",
    "\n",
    "plt.tight_layout()\n",
    "plt.show()"
   ]
  },
  {
   "cell_type": "code",
   "execution_count": 343,
   "metadata": {},
   "outputs": [
    {
     "data": {
      "image/svg+xml": [
       "<?xml version=\"1.0\" encoding=\"UTF-8\" standalone=\"no\"?>\n",
       "<!DOCTYPE svg PUBLIC \"-//W3C//DTD SVG 1.1//EN\"\n",
       " \"http://www.w3.org/Graphics/SVG/1.1/DTD/svg11.dtd\">\n",
       "<!-- Generated by graphviz version 9.0.0 (20230911.1827)\n",
       " -->\n",
       "<!-- Pages: 1 -->\n",
       "<svg width=\"250pt\" height=\"143pt\"\n",
       " viewBox=\"0.00 0.00 250.38 142.50\" xmlns=\"http://www.w3.org/2000/svg\" xmlns:xlink=\"http://www.w3.org/1999/xlink\">\n",
       "<g id=\"graph0\" class=\"graph\" transform=\"scale(1 1) rotate(0) translate(4 138.5)\">\n",
       "<polygon fill=\"white\" stroke=\"none\" points=\"-4,4 -4,-138.5 246.38,-138.5 246.38,4 -4,4\"/>\n",
       "<!-- A -->\n",
       "<g id=\"node1\" class=\"node\">\n",
       "<title>A</title>\n",
       "<polygon fill=\"lightgrey\" stroke=\"black\" points=\"80.12,-134.5 16.12,-134.5 16.12,-93.5 80.12,-93.5 80.12,-134.5\"/>\n",
       "<text text-anchor=\"middle\" x=\"48.12\" y=\"-117.2\" font-family=\"Times,serif\" font-size=\"14.00\">Original</text>\n",
       "<text text-anchor=\"middle\" x=\"48.12\" y=\"-100.7\" font-family=\"Times,serif\" font-size=\"14.00\"> (n=200)</text>\n",
       "</g>\n",
       "<!-- B -->\n",
       "<g id=\"node2\" class=\"node\">\n",
       "<title>B</title>\n",
       "<polygon fill=\"lightgrey\" stroke=\"black\" points=\"96.25,-41 0,-41 0,0 96.25,0 96.25,-41\"/>\n",
       "<text text-anchor=\"middle\" x=\"48.12\" y=\"-23.7\" font-family=\"Times,serif\" font-size=\"14.00\">Filtered values</text>\n",
       "<text text-anchor=\"middle\" x=\"48.12\" y=\"-7.2\" font-family=\"Times,serif\" font-size=\"14.00\"> (n=100)</text>\n",
       "</g>\n",
       "<!-- A&#45;&gt;B -->\n",
       "<g id=\"edge1\" class=\"edge\">\n",
       "<title>A&#45;&gt;B</title>\n",
       "<path fill=\"none\" stroke=\"black\" d=\"M48.12,-93.15C48.12,-81.28 48.12,-65.94 48.12,-52.5\"/>\n",
       "<polygon fill=\"black\" stroke=\"black\" points=\"51.63,-52.83 48.13,-42.83 44.63,-52.83 51.63,-52.83\"/>\n",
       "<text text-anchor=\"middle\" x=\"145.25\" y=\"-62.2\" font-family=\"Times,serif\" font-size=\"14.00\"> &#160;Filtering Process: Removes lalalla</text>\n",
       "</g>\n",
       "</g>\n",
       "</svg>\n"
      ],
      "text/plain": [
       "<graphviz.graphs.Digraph at 0x2b01d6a50>"
      ]
     },
     "execution_count": 343,
     "metadata": {},
     "output_type": "execute_result"
    }
   ],
   "source": [
    "import graphviz\n",
    "\n",
    "# Create Digraph object\n",
    "dot = graphviz.Digraph()\n",
    "\n",
    "# Define nodes (edgy nodes)\n",
    "dot.node(name=\"A\", label=\"Original\\n (n=200)\", style=\"filled\", shape=\"box\")\n",
    "dot.node(name=\"B\", label=\"Filtered values\\n (n=100)\", style=\"filled\", shape=\"box\")\n",
    "\n",
    "# Define edges (arrows) with labels\n",
    "dot.edge(\"A\", \"B\", label=\"  Filtering Process: Removes lalalla\", labeldistance=\"10.5\")\n",
    "\n",
    "# Render the graph\n",
    "dot.render(\"flow_diagram_edgy_nodes\", format=\"png\", cleanup=True)\n",
    "\n",
    "dot"
   ]
  },
  {
   "cell_type": "code",
   "execution_count": 317,
   "metadata": {},
   "outputs": [
    {
     "ename": "UnidentifiedImageError",
     "evalue": "cannot identify image file 'dot_figure.png'",
     "output_type": "error",
     "traceback": [
      "\u001b[0;31m---------------------------------------------------------------------------\u001b[0m",
      "\u001b[0;31mUnidentifiedImageError\u001b[0m                    Traceback (most recent call last)",
      "Cell \u001b[0;32mIn[317], line 8\u001b[0m\n\u001b[1;32m      5\u001b[0m dot\u001b[38;5;241m.\u001b[39mrender(\u001b[38;5;124m'\u001b[39m\u001b[38;5;124mdot_figure.png\u001b[39m\u001b[38;5;124m'\u001b[39m, \u001b[38;5;28mformat\u001b[39m\u001b[38;5;241m=\u001b[39m\u001b[38;5;124m'\u001b[39m\u001b[38;5;124mpng\u001b[39m\u001b[38;5;124m'\u001b[39m)\n\u001b[1;32m      7\u001b[0m \u001b[38;5;66;03m# Convert Dot figure to image\u001b[39;00m\n\u001b[0;32m----> 8\u001b[0m dot_img \u001b[38;5;241m=\u001b[39m \u001b[43mImage\u001b[49m\u001b[38;5;241;43m.\u001b[39;49m\u001b[43mopen\u001b[49m\u001b[43m(\u001b[49m\u001b[38;5;124;43m'\u001b[39;49m\u001b[38;5;124;43mdot_figure.png\u001b[39;49m\u001b[38;5;124;43m'\u001b[39;49m\u001b[43m)\u001b[49m\n\u001b[1;32m     10\u001b[0m \u001b[38;5;66;03m# Create subplots for both figures\u001b[39;00m\n\u001b[1;32m     11\u001b[0m fig, axes \u001b[38;5;241m=\u001b[39m plt\u001b[38;5;241m.\u001b[39msubplots(\u001b[38;5;241m1\u001b[39m, \u001b[38;5;241m2\u001b[39m, figsize\u001b[38;5;241m=\u001b[39m(\u001b[38;5;241m15\u001b[39m, \u001b[38;5;241m5\u001b[39m))  \u001b[38;5;66;03m# Adjust figsize as needed\u001b[39;00m\n",
      "File \u001b[0;32m~/Documents/ehrapy_clean/ehrapy_venv_feb/lib/python3.11/site-packages/PIL/Image.py:3309\u001b[0m, in \u001b[0;36mopen\u001b[0;34m(fp, mode, formats)\u001b[0m\n\u001b[1;32m   3307\u001b[0m     warnings\u001b[38;5;241m.\u001b[39mwarn(message)\n\u001b[1;32m   3308\u001b[0m msg \u001b[38;5;241m=\u001b[39m \u001b[38;5;124m\"\u001b[39m\u001b[38;5;124mcannot identify image file \u001b[39m\u001b[38;5;132;01m%r\u001b[39;00m\u001b[38;5;124m\"\u001b[39m \u001b[38;5;241m%\u001b[39m (filename \u001b[38;5;28;01mif\u001b[39;00m filename \u001b[38;5;28;01melse\u001b[39;00m fp)\n\u001b[0;32m-> 3309\u001b[0m \u001b[38;5;28;01mraise\u001b[39;00m UnidentifiedImageError(msg)\n",
      "\u001b[0;31mUnidentifiedImageError\u001b[0m: cannot identify image file 'dot_figure.png'"
     ]
    }
   ],
   "source": [
    "import matplotlib.pyplot as plt\n",
    "from PIL import Image\n",
    "\n",
    "# Save Dot figure to a file\n",
    "dot.render(\"dot_figure.png\", format=\"png\")\n",
    "\n",
    "# Convert Dot figure to image\n",
    "dot_img = Image.open(\"dot_figure.png\")\n",
    "\n",
    "# Create subplots for both figures\n",
    "fig, axes = plt.subplots(1, 2, figsize=(15, 5))  # Adjust figsize as needed\n",
    "\n",
    "# Plot Dot figure\n",
    "axes[0].imshow(dot_img)\n",
    "axes[0].axis(\"off\")\n",
    "\n",
    "# Plot Matplotlib figure with barplots\n",
    "# Assuming `fig` contains your Matplotlib figure with barplots\n",
    "axes[1].imshow(fig.canvas.renderer._renderer)\n",
    "axes[1].axis(\"off\")\n",
    "\n",
    "# Adjust layout\n",
    "plt.tight_layout()\n",
    "\n",
    "# Show the plots\n",
    "plt.show()"
   ]
  }
 ],
 "metadata": {
  "kernelspec": {
   "display_name": "ehrapy_venv_feb",
   "language": "python",
   "name": "python3"
  },
  "language_info": {
   "codemirror_mode": {
    "name": "ipython",
    "version": 3
   },
   "file_extension": ".py",
   "mimetype": "text/x-python",
   "name": "python",
   "nbconvert_exporter": "python",
   "pygments_lexer": "ipython3",
   "version": "3.11.7"
  }
 },
 "nbformat": 4,
 "nbformat_minor": 2
}
